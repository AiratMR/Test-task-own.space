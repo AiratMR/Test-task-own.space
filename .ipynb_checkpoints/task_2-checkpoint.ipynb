{
 "cells": [
  {
   "cell_type": "code",
   "execution_count": 1,
   "metadata": {},
   "outputs": [],
   "source": [
    "import requests"
   ]
  },
  {
   "cell_type": "code",
   "execution_count": 8,
   "metadata": {},
   "outputs": [],
   "source": [
    "def get_repos(query):\n",
    "    \"\"\"Возвращает 5 ссылок на репозитории github с наибольшим количеством звезд\n",
    "    \n",
    "    Аргументы:\n",
    "    query -- строка с ключевым словом для поиска\n",
    "    \n",
    "    \"\"\"\n",
    "    try:\n",
    "        res = requests.get(\"https://api.github.com/search/repositories\",\n",
    "                     params={'q': query, 'sort': 'stars', 'order': 'desc'})\n",
    "        data = res.json()\n",
    "        \n",
    "        link_list = []\n",
    "        \n",
    "        for i in range(5):\n",
    "            link_list.append(data['items'][i]['html_url'])\n",
    "        \n",
    "        return link_list\n",
    "    except Exception as e:\n",
    "        print(\"Exception (find):\", e)\n",
    "        pass"
   ]
  },
  {
   "cell_type": "code",
   "execution_count": 9,
   "metadata": {},
   "outputs": [
    {
     "name": "stdout",
     "output_type": "stream",
     "text": [
      "['https://github.com/tensorflow/tensorflow', 'https://github.com/robbyrussell/oh-my-zsh', 'https://github.com/vinta/awesome-python', 'https://github.com/donnemartin/system-design-primer', 'https://github.com/justjavac/free-programming-books-zh_CN']\n"
     ]
    }
   ],
   "source": [
    "string = get_repos(\"python\")\n",
    "print(string)"
   ]
  },
  {
   "cell_type": "code",
   "execution_count": null,
   "metadata": {},
   "outputs": [],
   "source": []
  }
 ],
 "metadata": {
  "kernelspec": {
   "display_name": "Python 3",
   "language": "python",
   "name": "python3"
  },
  "language_info": {
   "codemirror_mode": {
    "name": "ipython",
    "version": 3
   },
   "file_extension": ".py",
   "mimetype": "text/x-python",
   "name": "python",
   "nbconvert_exporter": "python",
   "pygments_lexer": "ipython3",
   "version": "3.6.7"
  }
 },
 "nbformat": 4,
 "nbformat_minor": 2
}
