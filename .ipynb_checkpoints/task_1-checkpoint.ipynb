{
 "cells": [
  {
   "cell_type": "code",
   "execution_count": 8,
   "metadata": {},
   "outputs": [],
   "source": [
    "import requests\n",
    "import json"
   ]
  },
  {
   "cell_type": "code",
   "execution_count": 37,
   "metadata": {},
   "outputs": [],
   "source": [
    "def get_weather():\n",
    "    city_1 = \"Kazan,RU\"\n",
    "    city_2 = \"Moscow,RU\"\n",
    "    city_3 = \"London,GB\"\n",
    "    appid = \"78afa120df71addab92c55e2f1e57abd\"\n",
    "    \n",
    "    try:\n",
    "        res_1 = requests.get(\"http://api.openweathermap.org/data/2.5/find\",\n",
    "                     params={'q': city_1, 'type': 'like', 'units': 'metric', 'APPID': appid})\n",
    "        res_2 = requests.get(\"http://api.openweathermap.org/data/2.5/find\",\n",
    "                     params={'q': city_2, 'type': 'like', 'units': 'metric', 'APPID': appid})\n",
    "        res_3 = requests.get(\"http://api.openweathermap.org/data/2.5/find\",\n",
    "                     params={'q': city_3, 'type': 'like', 'units': 'metric', 'APPID': appid})\n",
    "       \n",
    "        data_1 = res_1.json()\n",
    "        data_2 = res_2.json()\n",
    "        data_3 = res_3.json()\n",
    "\n",
    "        degree_1 = data_1['list'][0]['main']['temp']\n",
    "        degree_2 = data_2['list'][0]['main']['temp']\n",
    "        degree_3 = data_3['list'][0]['main']['temp']\n",
    "        \n",
    "        json_str = json.dumps(\n",
    "            {\n",
    "                \"weatherData\":[ \n",
    "                    {\n",
    "                        \"cityName\": city_1, \n",
    "                        \"degreesCelsius\" : degree_1\n",
    "                    },\n",
    "                    {\n",
    "                        \"cityName\": city_2, \n",
    "                        \"degreesCelsius\" : degree_2\n",
    "                    },\n",
    "                    {\n",
    "                        \"cityName\": city_3, \n",
    "                        \"degreesCelsius\" : degree_3\n",
    "                    },\n",
    "                ]\n",
    "            })\n",
    "        \n",
    "        return json_str\n",
    "    except Exception as e:\n",
    "        print(\"Exception (find):\", e)\n",
    "        pass"
   ]
  },
  {
   "cell_type": "code",
   "execution_count": 38,
   "metadata": {},
   "outputs": [
    {
     "name": "stdout",
     "output_type": "stream",
     "text": [
      "{\"weatherData\": [{\"cityName\": \"Kazan,RU\", \"degreesCelsius\": -8}, {\"cityName\": \"Moscow,RU\", \"degreesCelsius\": -1.3}, {\"cityName\": \"London,GB\", \"degreesCelsius\": 11.43}]}\n"
     ]
    }
   ],
   "source": [
    "string = get_weather()\n",
    "print(string)"
   ]
  },
  {
   "cell_type": "code",
   "execution_count": null,
   "metadata": {},
   "outputs": [],
   "source": []
  }
 ],
 "metadata": {
  "kernelspec": {
   "display_name": "Python 3",
   "language": "python",
   "name": "python3"
  },
  "language_info": {
   "codemirror_mode": {
    "name": "ipython",
    "version": 3
   },
   "file_extension": ".py",
   "mimetype": "text/x-python",
   "name": "python",
   "nbconvert_exporter": "python",
   "pygments_lexer": "ipython3",
   "version": "3.6.7"
  }
 },
 "nbformat": 4,
 "nbformat_minor": 2
}
