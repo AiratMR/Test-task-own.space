{
 "cells": [
  {
   "cell_type": "code",
   "execution_count": 2,
   "metadata": {},
   "outputs": [],
   "source": [
    "import re\n",
    "\n",
    "def preprocess_text(text):\n",
    "    \"\"\"Возращает предобработанный текст\n",
    "    \n",
    "    Аргументы:\n",
    "    text -- строка с текстом\n",
    "    \n",
    "    \"\"\"\n",
    "    text = text.lower().replace(\"ё\", \"е\")\n",
    "    text = re.sub('((www\\.[^\\s]+)|(https?://[^\\s]+))', 'URL', text)\n",
    "    text = re.sub('[^a-zA-Zа-яА-Я]+', ' ', text)\n",
    "    text = re.sub(' +', ' ', text)\n",
    "    return text.strip()"
   ]
  },
  {
   "cell_type": "code",
   "execution_count": 3,
   "metadata": {},
   "outputs": [
    {
     "name": "stdout",
     "output_type": "stream",
     "text": [
      "[nltk_data] Downloading package stopwords to\n",
      "[nltk_data]     C:\\Users\\1\\AppData\\Roaming\\nltk_data...\n",
      "[nltk_data]   Package stopwords is already up-to-date!\n"
     ]
    }
   ],
   "source": [
    "import nltk\n",
    "nltk.download('stopwords')\n",
    "from nltk.corpus import stopwords\n",
    "\n",
    "def delete_stopwords(text):\n",
    "    \"\"\"Возвращает текст без стоп-слов\n",
    "\n",
    "    Аргументы:\n",
    "    text -- строка с текстом\n",
    "    \n",
    "    \"\"\"\n",
    "    text = text.split(' ')\n",
    "    filtered_text = [word for word in text if word not in stopwords.words('english')]\n",
    "    res_text = ''\n",
    "    for word in filtered_text:\n",
    "        res_text += word + ' '\n",
    "    return res_text"
   ]
  },
  {
   "cell_type": "code",
   "execution_count": 4,
   "metadata": {},
   "outputs": [],
   "source": [
    "from tensorflow.keras.preprocessing.text import Tokenizer\n",
    "from tensorflow.keras.preprocessing.sequence import pad_sequences\n",
    "\n",
    "SENTENCE_LENGTH = 150\n",
    "NUM = 100000\n",
    "\n",
    "def get_sequences(tokenizer, x):\n",
    "    \"\"\"Возращает массив идентификаторов токенов\n",
    "\n",
    "    Аргументы:\n",
    "    tokenizer -- токенизатор\n",
    "    x -- массив с текстами\n",
    "    \n",
    "    \"\"\"\n",
    "    sequences = tokenizer.texts_to_sequences(x)\n",
    "    return pad_sequences(sequences, maxlen=SENTENCE_LENGTH)"
   ]
  },
  {
   "cell_type": "code",
   "execution_count": 5,
   "metadata": {},
   "outputs": [],
   "source": [
    "import pickle\n",
    "# Загружаем токенизатор\n",
    "with open('tokenizer.pickle', 'rb') as handle:\n",
    "    tokenizer = pickle.load(handle)"
   ]
  },
  {
   "cell_type": "code",
   "execution_count": 6,
   "metadata": {},
   "outputs": [
    {
     "name": "stdout",
     "output_type": "stream",
     "text": [
      "WARNING:tensorflow:From C:\\Users\\1\\Anaconda3\\lib\\site-packages\\tensorflow\\python\\ops\\resource_variable_ops.py:435: colocate_with (from tensorflow.python.framework.ops) is deprecated and will be removed in a future version.\n",
      "Instructions for updating:\n",
      "Colocations handled automatically by placer.\n",
      "WARNING:tensorflow:From C:\\Users\\1\\Anaconda3\\lib\\site-packages\\tensorflow\\python\\keras\\backend.py:4010: calling dropout (from tensorflow.python.ops.nn_ops) with keep_prob is deprecated and will be removed in a future version.\n",
      "Instructions for updating:\n",
      "Please use `rate` instead of `keep_prob`. Rate should be set to `rate = 1 - keep_prob`.\n",
      "Loaded model from disk\n"
     ]
    }
   ],
   "source": [
    "from tensorflow.keras.models import model_from_json\n",
    "\n",
    "# Загружаем модель\n",
    "json_file = open('model.json', 'r')\n",
    "loaded_model_json = json_file.read()\n",
    "json_file.close()\n",
    "loaded_model = model_from_json(loaded_model_json)\n",
    "# Загружаем веса обученной модели\n",
    "loaded_model.load_weights(\"model.h5\")\n",
    "print(\"Loaded model from disk\")"
   ]
  },
  {
   "cell_type": "code",
   "execution_count": 24,
   "metadata": {},
   "outputs": [],
   "source": [
    "def get_predict(model, tokenizer, text):\n",
    "    \"\"\"Возвращает True, если текст относится к медицинской области, иначе - False\n",
    "    \n",
    "    Аргументы:\n",
    "    model -- обученная модель\n",
    "    tokenizer -- токенизатор\n",
    "    text -- строка - текст, по который нужно классифицировать\n",
    "    \n",
    "    \"\"\"\n",
    "    \n",
    "    text = preprocess_text(text)\n",
    "    text = delete_stopwords(text)\n",
    "    text = get_sequences(tokenizer, [text])\n",
    "    \n",
    "    y_p = model.predict_proba(text)\n",
    "    \n",
    "    if(y_p[0][0] > 0.90):\n",
    "        return True  \n",
    "    return False"
   ]
  },
  {
   "cell_type": "code",
   "execution_count": 1,
   "metadata": {},
   "outputs": [
    {
     "ename": "NameError",
     "evalue": "name 'get_predict' is not defined",
     "output_type": "error",
     "traceback": [
      "\u001b[1;31m---------------------------------------------------------------------------\u001b[0m",
      "\u001b[1;31mNameError\u001b[0m                                 Traceback (most recent call last)",
      "\u001b[1;32m<ipython-input-1-05d9112175ca>\u001b[0m in \u001b[0;36m<module>\u001b[1;34m\u001b[0m\n\u001b[0;32m     14\u001b[0m \u001b[1;31m#text = \"Cancer is a group of diseases involving abnormal cell growth with the potential to invade or spread to other parts of the body.[2][8] These contrast with benign tumors, which do not spread.[8] Possible signs and symptoms include a lump, abnormal bleeding, prolonged cough, unexplained weight loss and a change in bowel movements.[1] While these symptoms may indicate cancer, they may have other causes.[1] Over 100 types of cancers affect humans.[8] Tobacco use is the cause of about 22% of cancer deaths.[2] Another 10% are due to obesity, poor diet, lack of physical activity or excessive drinking of alcohol.[2][9][10] Other factors include certain infections, exposure to ionizing radiation and environmental pollutants.[3] In the developing world, 15% of cancers are due to infections such as Helicobacter pylori, hepatitis B, hepatitis C, human papillomavirus infection, Epstein–Barr virus and human immunodeficiency virus (HIV).[2] These factors act, at least partly, by changing the genes of a cell.[11] Typically, many genetic changes are required before cancer develops.[11] Approximately 5–10% of cancers are due to inherited genetic defects from a person's parents.[12] Cancer can be detected by certain signs and symptoms or screening tests.[2] It is then typically further investigated by medical imaging and confirmed by biopsy.[13 \"\u001b[0m\u001b[1;33m\u001b[0m\u001b[1;33m\u001b[0m\u001b[1;33m\u001b[0m\u001b[0m\n\u001b[0;32m     15\u001b[0m \u001b[1;33m\u001b[0m\u001b[0m\n\u001b[1;32m---> 16\u001b[1;33m \u001b[0mprint\u001b[0m\u001b[1;33m(\u001b[0m\u001b[0mget_predict\u001b[0m\u001b[1;33m(\u001b[0m\u001b[0mloaded_model\u001b[0m\u001b[1;33m,\u001b[0m \u001b[0mtokenizer\u001b[0m\u001b[1;33m,\u001b[0m \u001b[0mtext\u001b[0m\u001b[1;33m)\u001b[0m\u001b[1;33m)\u001b[0m\u001b[1;33m\u001b[0m\u001b[1;33m\u001b[0m\u001b[0m\n\u001b[0m",
      "\u001b[1;31mNameError\u001b[0m: name 'get_predict' is not defined"
     ]
    }
   ],
   "source": [
    "#about coronary artery\n",
    "#text = \"Coronary artery bypass surgery, also known as coronary artery bypass graft (CABG, pronounced \\\"cabbage\\\") surgery, and colloquially heart bypass or bypass surgery, is a surgical procedure to restore normal blood flow to an obstructed coronary artery. A normal coronary artery transports blood to and from the heart muscle itself, not through the main circulatory system. There are two main approaches. In one, the left internal thoracic artery, LITA (also called left internal mammary artery, LIMA) is diverted to the left anterior descending branch of the left coronary artery. In this method, the artery is \\\"pedicled\\\" which means it is not detached from the origin. In the other, a great saphenous vein is removed from a leg; one end is attached to the aorta or one of its major branches, and the other end is attached to the obstructed artery immediately after the obstruction to restore blood flow. CABG is performed to relieve angina unsatisfactorily controlled by maximum tolerated anti-ischemic medication, prevent or relieve left ventricular dysfunction, and/or reduce the risk of death. CABG does not prevent myocardial infarction (heart attack). This surgery is usually performed with the heart stopped, necessitating the usage of cardiopulmonary bypass. However, two alternative techniques are also available, allowing CABG to be performed on a beating heart either without using the cardiopulmonary bypass, a procedure referred to as \\\"off-pump\\\" surgery, or performing beating surgery using partial assistance of the cardiopulmonary bypass, a procedure referred to as \\\"on-pump beating\\\" surgery. The latter procedure offers the advantages of the on-pump stopped and off-pump while minimizing their respective side-effects. CABG is often indicated when coronary arteries have a 50 to 99 percent obstruction. The obstruction being bypassed is typically due to arteriosclerosis, atherosclerosis, or both. Arteriosclerosis is characterized by thickening, loss of elasticity, and calcification of the arterial wall, most often resulting in a generalized narrowing in the affected coronary artery. Atherosclerosis is characterized by yellowish plaques of cholesterol, lipids, and cellular debris deposited into the inner layer of the wall of a large or medium-sized coronary artery, most often resulting in a partial obstruction in the affected artery. Either condition can limit blood flow if it causes a cross-sectional narrowing of at least 50 percent. \"\n",
    "#about cat\n",
    "#text = \"The Persian cat is a long-haired breed of cat characterized by its round face and short muzzle. It is also known as the \\\"Persian Longhair\\\" in the English-speaking countries. In the Middle East region they are widely known as \\\"Iranian cat\\\" and in Iran they are known as \\\"Shirazi cat\\\". The first documented ancestors of the Persian were imported into Italy from Iran (historically known as Persia) around 1620. The exact history of the Persian cat does seem to be a bit of a mystery but many of these long-haired cats were seen in hieroglyphics. The story has it that these long-haired cats were then imported into Europe as their popularity grew and breeding took place in Italy and France.\"\n",
    "#some medical article\n",
    "#text = \"A chondroblastoma is a rare, usually benign, tumor of bone that accounts for approximately 1% of all bone tumors. In 1931, Codman classified it as a chondromatous variant of giant cell tumors, when he described these lesions in the proximal humerus. [1] A decade later, Jaffe and Lichtenstein renamed the Codman tumor a benign chondroblastoma to emphasize the chondroblastic genesis of the lesion and to distinguish it from the classic giant cell tumor of bone. [2]Although the exact etiology of chondroblastoma remains uncertain, the presentation, appropriate evaluation, and treatment of patients with the condition have been well described. (See Presentation, Workup, and Treatment.)\"\n",
    "#about boat\n",
    "#text = \"The R-boats built by Lake Torpedo Boat Company (R-21 through R-27) are sometimes considered a separate class from those of the other builders. The Lake boats had a length of 175 feet (53.3 m) overall, a beam of 16 feet 8 inches (5.1 m) and a mean draft of 13 feet 11 inches (4.2 m). They displaced 497 long tons (505 t) on the surface and 652 long tons (662 t) submerged. The R-class submarines had a crew of 3 officers and 23 enlisted men. They had a diving depth of 200 feet (61.0 m).[1] For surface running, the boats were powered by two 500-brake-horsepower (373 kW) diesel engines, each driving one propeller shaft. When submerged each propeller was driven by a 400-horsepower (298 kW) electric motor. They could reach 14 knots (26 km/h; 16 mph) on the surface and 11 knots (20 km/h; 13 mph) underwater. On the surface, the Lake boats had a range of 3,523 nautical miles (6,525 km; 4,054 mi) at 11 knots (20 km/h; 13 mph)[1] and 150 nmi (280 km; 170 mi) at 5 knots (9.3 km/h; 5.8 mph) submerged.[1] The boats were armed with four 21-inch (53.3 cm) torpedo tubes in the bow. They carried four reloads, for a total of eight torpedoes. The R-class submarines were also armed with a single 3\\\"/50 caliber deck gun.[2]\"\n",
    "#about musician\n",
    "#text = \"Maurice Ravel (7 March 1875 – 28 December 1937) was a French composer, pianist and conductor. He is often associated with impressionism along with his elder contemporary Claude Debussy, but both composers rejected the term. After studying at France's premier music college, the Paris Conservatoire, he developed a style that incorporated elements of baroque, neoclassicism and, in his later works, jazz. Some of his piano music, such as Gaspard de la nuit (1908), is exceptionally difficult to play. His complex orchestral work Daphnis et Chloé (1912) was commissioned by the impresario Sergei Diaghilev for the Ballets Russes. In 1922 Ravel made an orchestral arrangement of Mussorgsky's Pictures at an Exhibition. He liked to experiment with musical form, as in Boléro (1928), his best-known work. A slow and painstaking worker, Ravel wrote fewer pieces than many of his contemporaries. He was among the first composers to use recordings to reach a wider public.\"\n",
    "#about physics\n",
    "#text = \"Physics (from Ancient Greek: φυσική (ἐπιστήμη), translit. physikḗ (epistḗmē), lit. 'knowledge of nature', from φύσις phýsis \\\"nature\\\")[1][2][3] is the natural science that studies matter[4] and its motion and behavior through space and time and that studies the related entities of energy and force.[5] Physics is one of the most fundamental scientific disciplines, and its main goal is to understand how the universe behaves.[a][6][7][8] Physics is one of the oldest academic disciplines and, through its inclusion of astronomy, perhaps the oldest.[9] Over the last two millennia, physics, chemistry, biology, and certain branches of mathematics were a part of natural philosophy, but during the scientific revolution in the 17th century, these natural sciences emerged as unique research endeavors in their own right.[b] Physics intersects with many interdisciplinary areas of research, such as biophysics and quantum chemistry, and the boundaries of physics are not rigidly defined. New ideas in physics often explain the fundamental mechanisms studied by other sciences[6] and suggest new avenues of research in academic disciplines such as mathematics and philosophy.\"\n",
    "#about cancer\n",
    "#text = \"Cancer is a group of diseases involving abnormal cell growth with the potential to invade or spread to other parts of the body.[2][8] These contrast with benign tumors, which do not spread.[8] Possible signs and symptoms include a lump, abnormal bleeding, prolonged cough, unexplained weight loss and a change in bowel movements.[1] While these symptoms may indicate cancer, they may have other causes.[1] Over 100 types of cancers affect humans.[8] Tobacco use is the cause of about 22% of cancer deaths.[2] Another 10% are due to obesity, poor diet, lack of physical activity or excessive drinking of alcohol.[2][9][10] Other factors include certain infections, exposure to ionizing radiation and environmental pollutants.[3] In the developing world, 15% of cancers are due to infections such as Helicobacter pylori, hepatitis B, hepatitis C, human papillomavirus infection, Epstein–Barr virus and human immunodeficiency virus (HIV).[2] These factors act, at least partly, by changing the genes of a cell.[11] Typically, many genetic changes are required before cancer develops.[11] Approximately 5–10% of cancers are due to inherited genetic defects from a person's parents.[12] Cancer can be detected by certain signs and symptoms or screening tests.[2] It is then typically further investigated by medical imaging and confirmed by biopsy.[13 \"\n",
    "text = \"\"\n",
    "\n",
    "print(get_predict(loaded_model, tokenizer, text))"
   ]
  },
  {
   "cell_type": "code",
   "execution_count": null,
   "metadata": {},
   "outputs": [],
   "source": []
  }
 ],
 "metadata": {
  "kernelspec": {
   "display_name": "Python 3",
   "language": "python",
   "name": "python3"
  },
  "language_info": {
   "codemirror_mode": {
    "name": "ipython",
    "version": 3
   },
   "file_extension": ".py",
   "mimetype": "text/x-python",
   "name": "python",
   "nbconvert_exporter": "python",
   "pygments_lexer": "ipython3",
   "version": "3.6.7"
  }
 },
 "nbformat": 4,
 "nbformat_minor": 2
}
